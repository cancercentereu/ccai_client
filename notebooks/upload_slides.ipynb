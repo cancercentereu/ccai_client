{
 "cells": [
  {
   "cell_type": "code",
   "execution_count": null,
   "metadata": {},
   "outputs": [],
   "source": [
    "%load_ext autoreload\n",
    "%autoreload 2"
   ]
  },
  {
   "cell_type": "code",
   "execution_count": null,
   "metadata": {},
   "outputs": [],
   "source": [
    "from ccai_client import API, File\n",
    "from ccai_client.file_classes import PathologySlideNode\n",
    "from histpat_toolkit.image_pyramid import DZIPyramid\n",
    "from histpat_toolkit.geom import Rectangle\n",
    "import matplotlib.pyplot as plt\n",
    "from pathlib import Path\n",
    "from dataclasses import asdict, dataclass\n",
    "import json\n",
    "import shutil\n",
    "import glob\n"
   ]
  },
  {
   "cell_type": "code",
   "execution_count": null,
   "metadata": {},
   "outputs": [],
   "source": [
    "# Organization is the codename of your organization in CancerCenter.ai platform -\n",
    "# usually it is the first part of the site base URL\n",
    "api = API(organization=\"platform\", save_token_to=\".auth.json\")"
   ]
  },
  {
   "cell_type": "code",
   "execution_count": null,
   "metadata": {},
   "outputs": [],
   "source": [
    "root_file = File.get_root(api)\n",
    "my_files = next(\n",
    "    child for child in root_file.children()\n",
    "    if child.name.lower() == \"my files\" or child.name.lower() == \"moje pliki\"\n",
    ")"
   ]
  },
  {
   "cell_type": "markdown",
   "metadata": {},
   "source": [
    "## Upload collage (ISD File)"
   ]
  },
  {
   "cell_type": "code",
   "execution_count": null,
   "metadata": {},
   "outputs": [],
   "source": [
    "@dataclass\n",
    "class ROI:\n",
    "    x: float\n",
    "    y: float\n",
    "    w: float\n",
    "    h: float\n",
    "    color: str = '#E57373' # red\n",
    "    comment: str | None = None\n",
    "    order: int = 1\n",
    "    label: str | bool = True\n",
    "\n",
    "# represents a rectangle which covers full image\n",
    "@dataclass\n",
    "class FullROI:\n",
    "    color: str = '#94BB66' # green\n",
    "    comment: str | None = None\n",
    "    order: int = 0\n",
    "    label: str | bool = True\n",
    "\n",
    "# images should have the same length as rois\n",
    "def make_isd_collage(\n",
    "    file_name: str,\n",
    "    parent_path: str | Path,\n",
    "    images: list[str | Path],\n",
    "    rois: list[list[ROI | FullROI]],\n",
    "    magnification: int | None = None,\n",
    "    mpp: float | None = None,\n",
    "):\n",
    "    parent_path = Path(parent_path)\n",
    "    isd_path = parent_path / f\"{file_name}.isd\"\n",
    "    data_folder_path = parent_path / f\"{file_name}_data\"\n",
    "    parent_path.mkdir(parents=True, exist_ok=True)\n",
    "\n",
    "    if data_folder_path.exists():\n",
    "        print(f\"Data folder {data_folder_path} already exists, removing it\")\n",
    "        shutil.rmtree(data_folder_path)\n",
    "\n",
    "    data_folder_path.mkdir(parents=True, exist_ok=False)\n",
    "\n",
    "    isd_images = []\n",
    "\n",
    "    for image_path, rois in zip(images, rois):\n",
    "        image_path = Path(image_path)\n",
    "        image_name = image_path.name\n",
    "        new_image_path = data_folder_path / image_name\n",
    "        shutil.copy(image_path, new_image_path)\n",
    "        isd_images.append({\n",
    "            \"type\": \"single\",\n",
    "            \"path\": str(new_image_path.relative_to(parent_path)),\n",
    "            \"rois\": [asdict(roi) for roi in rois]\n",
    "        })\n",
    "\n",
    "    isd_data = {\n",
    "        \"version\": \"1.1\",\n",
    "        \"layout\": \"wrapped\",\n",
    "        \"images\": isd_images\n",
    "    }\n",
    "    if magnification is not None:\n",
    "        isd_data[\"magnification\"] = magnification\n",
    "    if mpp is not None:\n",
    "        isd_data[\"mpp\"] = mpp\n",
    "\n",
    "    with open(isd_path, \"w\") as f:\n",
    "        f.write(json.dumps(isd_data, indent=4))\n",
    "\n",
    "    return isd_path, data_folder_path"
   ]
  },
  {
   "cell_type": "code",
   "execution_count": null,
   "metadata": {},
   "outputs": [],
   "source": [
    "images = glob.glob(\"example_data/collage/*.jpg\")\n",
    "rois = [\n",
    "    [\n",
    "        FullROI(comment=f\"ROI covering full image {i}\", label=\"Big label\"),\n",
    "        ROI(x=10 * i, y=10 * i, w=500, h=500, comment=f\"small ROI in marked in the image {i}\", label=False)\n",
    "    ]\n",
    "    for i in range(len(images))\n",
    "]\n",
    "\n",
    "paths = make_isd_collage(\"collage\", \"data\", images, rois)\n",
    "print('Data saved to:', paths)"
   ]
  },
  {
   "cell_type": "code",
   "execution_count": null,
   "metadata": {},
   "outputs": [],
   "source": [
    "slide_id = PathologySlideNode.create_from_files(api, paths, slide_name='collage', parent_file_id=my_files.id)\n",
    "print('Slide created with id:', slide_id)"
   ]
  },
  {
   "cell_type": "code",
   "execution_count": null,
   "metadata": {},
   "outputs": [],
   "source": [
    "# Note: you may need to wait some time for the slide to be processed\n",
    "file: PathologySlideNode = File.get(api, slide_id)\n",
    "dzi_pyramid = DZIPyramid(file.dzi_file)\n",
    "image = dzi_pyramid.full_image()\n",
    "plt.imshow(image)"
   ]
  },
  {
   "cell_type": "markdown",
   "metadata": {},
   "source": [
    "## Upload file from a scanner (SVS example)"
   ]
  },
  {
   "cell_type": "code",
   "execution_count": null,
   "metadata": {},
   "outputs": [],
   "source": [
    "slide_id = PathologySlideNode.create_from_files(api, 'example_data/test.svs', slide_name='test_svs', parent_file_id=my_files.id, verbose=True)\n",
    "print('Slide created with id:', slide_id)"
   ]
  },
  {
   "cell_type": "code",
   "execution_count": null,
   "metadata": {},
   "outputs": [],
   "source": [
    "# Note: you may need to wait some time for the slide to be processed\n",
    "slide: PathologySlideNode = File.get(api, slide_id)\n",
    "dzi_pyramid = DZIPyramid(slide.dzi_file)\n",
    "image = dzi_pyramid.full_image()\n",
    "plt.imshow(image)"
   ]
  },
  {
   "cell_type": "markdown",
   "metadata": {},
   "source": [
    "## Upload a segmentation mask from a file"
   ]
  },
  {
   "cell_type": "code",
   "execution_count": null,
   "metadata": {},
   "outputs": [],
   "source": [
    "from ccai_client.patho import ColorMap\n",
    "\n",
    "colormap = ColorMap.get_by_codename(api=api, codename=\"tissue-detection\")\n",
    "color = colormap.colors[0].value"
   ]
  },
  {
   "cell_type": "code",
   "execution_count": null,
   "metadata": {},
   "outputs": [],
   "source": [
    "# Prepare a sample mask (colors mode)\n",
    "\n",
    "from PIL import Image, ImageDraw, ImageColor\n",
    "\n",
    "height, width = image.shape[0], image.shape[1]\n",
    "\n",
    "overlay = Image.new(\"RGBA\", (width, height), (0, 0, 0, 0))\n",
    "draw = ImageDraw.Draw(overlay)\n",
    "image_color = ImageColor.getcolor(color, \"RGBA\")\n",
    "\n",
    "radius = min(width, height) // 4\n",
    "center = (width // 2, height // 2)\n",
    "bbox = [\n",
    "    center[0] - radius,\n",
    "    center[1] - radius,\n",
    "    center[0] + radius,\n",
    "    center[1] + radius\n",
    "]\n",
    "draw.ellipse(bbox, fill=image_color)\n",
    "overlay.save(\"data/segmentation.png\")"
   ]
  },
  {
   "cell_type": "code",
   "execution_count": null,
   "metadata": {},
   "outputs": [],
   "source": [
    "slide.upload_tiled_mask(\"data/segmentation.png\", color_map=\"tissue-detection\")"
   ]
  },
  {
   "cell_type": "code",
   "execution_count": null,
   "metadata": {},
   "outputs": [],
   "source": [
    "# Prepare a sample mask (keys mode - single channel image with class numbers)\n",
    "height, width = image.shape[0], image.shape[1]\n",
    "\n",
    "from PIL import Image, ImageDraw\n",
    "\n",
    "# Create a zero-filled grayscale image\n",
    "mask_img = Image.new(\"L\", (width, height), 0)\n",
    "\n",
    "# Draw a white-filled circle (value 1)\n",
    "draw = ImageDraw.Draw(mask_img)\n",
    "radius = min(width, height) // 4\n",
    "center = (width // 2, height // 2)\n",
    "bbox = [\n",
    "    center[0] - radius,\n",
    "    center[1] - radius,\n",
    "    center[0] + radius,\n",
    "    center[1] + radius\n",
    "]\n",
    "draw.ellipse(bbox, fill=1)\n",
    "\n",
    "# Save to PNG\n",
    "mask_img.save(\"data/segmentation_keys.png\")\n"
   ]
  },
  {
   "cell_type": "code",
   "execution_count": null,
   "metadata": {},
   "outputs": [],
   "source": [
    "slide.upload_tiled_mask(\"data/segmentation_keys.png\", color_map=\"tissue-detection\", mask_type=\"KEYS\")"
   ]
  },
  {
   "cell_type": "code",
   "execution_count": null,
   "metadata": {},
   "outputs": [],
   "source": []
  }
 ],
 "metadata": {
  "kernelspec": {
   "display_name": "ccai_client",
   "language": "python",
   "name": "python3"
  },
  "language_info": {
   "codemirror_mode": {
    "name": "ipython",
    "version": 3
   },
   "file_extension": ".py",
   "mimetype": "text/x-python",
   "name": "python",
   "nbconvert_exporter": "python",
   "pygments_lexer": "ipython3",
   "version": "3.13.3"
  }
 },
 "nbformat": 4,
 "nbformat_minor": 2
}
