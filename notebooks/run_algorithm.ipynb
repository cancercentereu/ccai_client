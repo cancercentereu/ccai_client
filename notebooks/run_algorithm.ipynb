{
 "cells": [
  {
   "cell_type": "code",
   "execution_count": null,
   "metadata": {},
   "outputs": [],
   "source": [
    "%load_ext autoreload\n",
    "%autoreload 2"
   ]
  },
  {
   "cell_type": "code",
   "execution_count": null,
   "metadata": {},
   "outputs": [],
   "source": [
    "from ccai_client import API\n",
    "from ccai_client.file_classes import File\n",
    "from ccai_client.patho import RunAlgorithm, Algorithm"
   ]
  },
  {
   "cell_type": "code",
   "execution_count": null,
   "metadata": {},
   "outputs": [],
   "source": [
    "# Organization is the codename of your organization in CancerCenter.ai platform -\n",
    "# usually it is the first part of the site base URL\n",
    "api = API(organization=\"platform\", save_token_to=\".auth.json\")"
   ]
  },
  {
   "cell_type": "code",
   "execution_count": null,
   "metadata": {},
   "outputs": [],
   "source": [
    "# list ids and names of all available algorithms \n",
    "algorithms = Algorithm.get_all_algorithms(api)\n",
    "for algorithm in algorithms:\n",
    "    print(f\"ID: {algorithm.id}, Name: {algorithm.name}\")"
   ]
  },
  {
   "cell_type": "code",
   "execution_count": null,
   "metadata": {},
   "outputs": [],
   "source": [
    "# list ids and names of main folders of the user\n",
    "root = File.get_root(api)\n",
    "files = root.children()\n",
    "for file in files:\n",
    "    print(f\"ID: {file.id}, Name: {file.name}\")"
   ]
  },
  {
   "cell_type": "code",
   "execution_count": null,
   "metadata": {},
   "outputs": [],
   "source": [
    "# List all pathology slides in all subfolders\n",
    "files = root.search_files(deep=True, types=[\"PathologySlideNode\"])\n",
    "for file in files:\n",
    "    print(f\"ID: {file.id}, Name: {file.name}\")"
   ]
  },
  {
   "cell_type": "code",
   "execution_count": null,
   "metadata": {},
   "outputs": [],
   "source": [
    "slide = files[3]\n",
    "algorithm = algorithms[2]\n",
    "run_algorithm = RunAlgorithm.run(api, slide.id, algorithm.id)\n",
    "print(f\"Algorithm {run_algorithm.algorithm.name} is running on slide {slide.name}.\")"
   ]
  }
 ],
 "metadata": {
  "kernelspec": {
   "display_name": "ccai_client",
   "language": "python",
   "name": "python3"
  },
  "language_info": {
   "codemirror_mode": {
    "name": "ipython",
    "version": 3
   },
   "file_extension": ".py",
   "mimetype": "text/x-python",
   "name": "python",
   "nbconvert_exporter": "python",
   "pygments_lexer": "ipython3",
   "version": "3.12.3"
  }
 },
 "nbformat": 4,
 "nbformat_minor": 2
}
