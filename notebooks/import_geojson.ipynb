{
 "cells": [
  {
   "cell_type": "code",
   "execution_count": null,
   "metadata": {},
   "outputs": [],
   "source": [
    "%load_ext autoreload\n",
    "%autoreload 2"
   ]
  },
  {
   "cell_type": "code",
   "execution_count": null,
   "metadata": {},
   "outputs": [],
   "source": [
    "from ccai_client import API\n",
    "from ccai_client.file_classes import File\n",
    "from ccai_client.file_classes import PathologySlideNode"
   ]
  },
  {
   "cell_type": "code",
   "execution_count": null,
   "metadata": {},
   "outputs": [],
   "source": [
    "# Organization is the codename of your organization in CancerCenter.ai platform -\n",
    "# usually it is the first part of the site base URL\n",
    "api = API(organization=\"platform\", save_token_to=\".auth.json\")"
   ]
  },
  {
   "cell_type": "code",
   "execution_count": null,
   "metadata": {},
   "outputs": [],
   "source": [
    "root = File.get_root(api)\n",
    "files = root.children()\n",
    "for file in files:\n",
    "    print(f\"ID: {file.id}, Name: {file.name}\")"
   ]
  },
  {
   "cell_type": "code",
   "execution_count": null,
   "metadata": {},
   "outputs": [],
   "source": [
    "files = root.search_files(deep=True, types=[\"PathologySlideNode\"])\n",
    "for file in files:\n",
    "    print(f\"ID: {file.id}, Name: {file.name}\")"
   ]
  },
  {
   "cell_type": "code",
   "execution_count": null,
   "metadata": {},
   "outputs": [],
   "source": [
    "# replace geojson_str with the correct GeoJSON string\n",
    "geojson_str = '{\"type\":\"FeatureCollection\",\"features\":[{\"type\":\"Feature\",\"id\":\"46097fa4-5840-467d-a998-beb015272934\",\"geometry\":{\"type\":\"LineString\",\"coordinates\":[[2237.41, 6387.54],[9287.2, 6344.81]]},\"properties\":{\"objectType\":\"annotation\",\"metadata\":{\"arrowhead\":\"\\u003e\"},\"metadata\":{\"arrowhead\":\"\\u003e\"}}},{\"type\":\"Feature\",\"id\":\"27581992-e3c5-40c5-ba39-d57a42e09958\",\"geometry\":{\"type\":\"LineString\",\"coordinates\":[[1981.06, 9079.28],[9201.75, 9164.73]]},\"properties\":{\"objectType\":\"annotation\",\"metadata\":{\"arrowhead\":\"\\u003c\"},\"metadata\":{\"arrowhead\":\"\\u003c\"}}},{\"type\":\"Feature\",\"id\":\"39436a27-464d-4d75-a6ff-0c7862edfd55\",\"geometry\":{\"type\":\"Polygon\",\"coordinates\":[[[6467, 16406],[6467, 22174],[10953, 22174],[10953, 16406],[6467, 16406]]]},\"properties\":{\"objectType\":\"annotation\"}},{\"type\":\"Feature\",\"id\":\"8fe8c70d-63bf-487d-9063-d56eec452bea\",\"geometry\":{\"type\":\"Polygon\",\"coordinates\":[[[1810, 13031],[1813.33, 13138.31],[1823.31, 13245.19],[1839.89, 13351.23],[1863.02, 13456.01],[1892.59, 13559.11],[1928.5, 13660.12],[1970.6, 13758.66],[2018.73, 13854.32],[2072.7, 13946.73],[2132.28, 14035.52],[2197.26, 14120.36],[2267.37, 14200.89],[2342.33, 14276.81],[2421.85, 14347.81],[2505.61, 14413.61],[2593.29, 14473.96],[2684.54, 14528.61],[2779, 14577.35],[2876.29, 14619.99],[2976.03, 14656.36],[3077.84, 14686.31],[3181.29, 14709.73],[3286, 14726.52],[3391.54, 14736.63],[3497.5, 14740],[3603.46, 14736.63],[3709, 14726.52],[3813.71, 14709.73],[3917.16, 14686.31],[4018.97, 14656.36],[4118.71, 14619.99],[4216, 14577.35],[4310.46, 14528.61],[4401.71, 14473.96],[4489.39, 14413.61],[4573.15, 14347.81],[4652.67, 14276.81],[4727.63, 14200.89],[4797.74, 14120.36],[4862.72, 14035.52],[4922.3, 13946.73],[4976.27, 13854.32],[5024.4, 13758.66],[5066.5, 13660.12],[5102.41, 13559.11],[5131.98, 13456.01],[5155.11, 13351.23],[5171.69, 13245.19],[5181.67, 13138.31],[5185, 13031],[5181.67, 12923.69],[5171.69, 12816.81],[5155.11, 12710.77],[5131.98, 12605.99],[5102.41, 12502.89],[5066.5, 12401.88],[5024.4, 12303.34],[4976.27, 12207.68],[4922.3, 12115.27],[4862.72, 12026.48],[4797.74, 11941.64],[4727.63, 11861.11],[4652.67, 11785.19],[4573.15, 11714.19],[4489.39, 11648.39],[4401.71, 11588.04],[4310.46, 11533.39],[4216, 11484.65],[4118.71, 11442.01],[4018.97, 11405.64],[3917.16, 11375.69],[3813.71, 11352.27],[3709, 11335.48],[3603.46, 11325.37],[3497.5, 11322],[3391.54, 11325.37],[3286, 11335.48],[3181.29, 11352.27],[3077.84, 11375.69],[2976.03, 11405.64],[2876.29, 11442.01],[2779, 11484.65],[2684.54, 11533.39],[2593.29, 11588.04],[2505.61, 11648.39],[2421.85, 11714.19],[2342.33, 11785.19],[2267.37, 11861.11],[2197.26, 11941.64],[2132.28, 12026.48],[2072.7, 12115.27],[2018.73, 12207.68],[1970.6, 12303.34],[1928.5, 12401.88],[1892.59, 12502.89],[1863.02, 12605.99],[1839.89, 12710.77],[1823.31, 12816.81],[1813.33, 12923.69],[1810, 13031]]],\"isEllipse\":true},\"properties\":{\"objectType\":\"annotation\"}},{\"type\":\"Feature\",\"id\":\"94d6f188-ca9c-4f2d-86c7-6ee308eb7acc\",\"geometry\":{\"type\":\"Polygon\",\"coordinates\":[[[5740, 3118],[8475, 3973],[12363, 4528],[12192, 1879],[12192, 1837],[8090, 1452],[5740, 3118]]]},\"properties\":{\"objectType\":\"annotation\"}},{\"type\":\"Feature\",\"id\":\"f6376694-6c8f-4511-b584-aaace5d2f440\",\"geometry\":{\"type\":\"MultiPoint\",\"coordinates\":[[2603.05, 20402.67],[2655.22, 20552.22]]},\"properties\":{\"objectType\":\"annotation\",\"classification\":{\"name\":\"Tumor\",\"color\":[200, 0, 0]}}},{\"type\":\"Feature\",\"id\":\"91073207-ab7e-467a-831f-d24f93ca4fb5\",\"geometry\":{\"type\":\"Point\",\"coordinates\":[2625.65, 20585.27]},\"properties\":{\"objectType\":\"annotation\"}},{\"type\": \"Feature\",\"id\": \"d30da47d-0a41-4271-b7d5-c786aa1c71e6\",\"geometry\":{\"type\":\"MultiPolygon\",\"coordinates\":[[[[1891, 7620],[3298, 8622],[5149, 7350],[3992, 4768],[2335, 5731],[1891, 7620]]],[[[6883, 10704],[6883, 12824],[7230, 15715],[10160, 13942],[10931, 10955],[8715, 9336],[6883, 10704]]],[[[1332, 12227],[2508, 13133],[2682, 11726],[1332, 12227]]]]},\"properties\":{\"objectType\":\"annotation\"}},{\"type\": \"Feature\",\"id\": \"253e8a6e-18dc-49c0-a3c0-30c37f9c8e4a\",\"geometry\": {\"type\": \"MultiLineString\",\"coordinates\": [[[3818.28, 5340.75],[6937.27, 7818.86]],[[3903.73, 11664.2],[6937.27, 9143.37]]]},\"properties\": {\"objectType\": \"annotation\"}}]}'"
   ]
  },
  {
   "cell_type": "code",
   "execution_count": null,
   "metadata": {},
   "outputs": [],
   "source": [
    "file = files[0]\n",
    "annotations = file.create_annotations_from_geojson(geojson_str)"
   ]
  },
  {
   "cell_type": "code",
   "execution_count": null,
   "metadata": {},
   "outputs": [],
   "source": [
    "# adjust the following print statement to match your needs\n",
    "for annot in annotations:\n",
    "    print(f\"\"\"{annot.number} ({annot.id}):\n",
    "                type: {annot.shape_type}\n",
    "                data: {annot.shape_data}\n",
    "                label: {annot.label}\n",
    "                is_label_visible: {annot.is_label_visible}\"\"\")\n"
   ]
  }
 ],
 "metadata": {
  "kernelspec": {
   "display_name": "Python 3",
   "language": "python",
   "name": "python3"
  },
  "language_info": {
   "codemirror_mode": {
    "name": "ipython",
    "version": 3
   },
   "file_extension": ".py",
   "mimetype": "text/x-python",
   "name": "python",
   "nbconvert_exporter": "python",
   "pygments_lexer": "ipython3",
   "version": "3.12.3"
  }
 },
 "nbformat": 4,
 "nbformat_minor": 2
}
