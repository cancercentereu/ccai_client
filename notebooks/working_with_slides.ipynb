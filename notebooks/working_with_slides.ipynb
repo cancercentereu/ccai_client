{
 "cells": [
  {
   "cell_type": "code",
   "execution_count": null,
   "metadata": {},
   "outputs": [],
   "source": [
    "from histpat_toolkit.geom import Rectangle, Polygon, Circle, Ellipse, Point\n",
    "from histpat_toolkit.image_pyramid import DZIPyramid\n",
    "from matplotlib import pyplot as plt\n",
    "from PIL import Image\n",
    "\n",
    "from ccai_client import API, File\n",
    "from ccai_client.file_classes import PathologySlideNode\n",
    "from ccai_client.patho import ShapeType"
   ]
  },
  {
   "cell_type": "code",
   "execution_count": null,
   "metadata": {},
   "outputs": [],
   "source": [
    "# Organization is the codename of your organization in CancerCenter.ai platform -\n",
    "# usually it is the first part of the site base URL\n",
    "api = API(organization=\"platform\", save_token_to=\".auth.json\")"
   ]
  },
  {
   "cell_type": "code",
   "execution_count": null,
   "metadata": {},
   "outputs": [],
   "source": [
    "# list ids and names of main folders of the user\n",
    "root = File.get_root(api)\n",
    "children = root.children()\n",
    "for child in children:\n",
    "    print(f\"ID: {child.id}, Name: {child.name}\")"
   ]
  },
  {
   "cell_type": "code",
   "execution_count": null,
   "metadata": {},
   "outputs": [],
   "source": [
    "# List all pathology slides in all subfolders\n",
    "children = root.search_files(deep=True, types=[\"PathologySlideNode\"])\n",
    "for child in children:\n",
    "    print(f\"ID: {child.id}, Name: {child.name}\")"
   ]
  },
  {
   "cell_type": "code",
   "execution_count": null,
   "metadata": {},
   "outputs": [],
   "source": [
    "for child in children:\n",
    "    if isinstance(child, PathologySlideNode):\n",
    "        # We can use ImagePyramid class to access the slide. You can find its documentation here:\n",
    "        # https://github.com/cancercentereu/histpat-toolkit/blob/main/doc/image-pyramid.md\n",
    "        dzi_pyramid = DZIPyramid(child.dzi_file)\n",
    "\n",
    "        # We take the scale for 2x magnification.\n",
    "        # It is also possible to get scale for a specific mpp (microns per pixel)\n",
    "        try:\n",
    "            scale = dzi_pyramid.get_scale_for(magnification=2)\n",
    "        except ValueError:\n",
    "            scale = 0.1  # no magnification information for the slide\n",
    "        image = dzi_pyramid.full_image(scale)\n",
    "        Image.fromarray(image).save(child.name + \"_2x.jpg\")\n",
    "\n",
    "        for i, mask in enumerate(child.list_tiled_masks()):\n",
    "            mask_pyramid = child.get_tiled_mask_pyramid(mask)\n",
    "\n",
    "            # Be careful: the scale of the mask pyramid is not the same as the scale of the image pyramid!\n",
    "            try:\n",
    "                scale = mask_pyramid.get_scale_for(magnification=2)\n",
    "            except ValueError:\n",
    "                scale = 0.1 * mask_pyramid.scale  # no magnification information for the slide\n",
    "            mask = mask_pyramid.full_image(scale)\n",
    "            Image.fromarray(mask).save(child.name + \"_mask_2x_\" + str(i) + \".png\")\n",
    "\n",
    "# To get the id of a file, folder, etc. navigate to your file in the platform and copy the id from the url\n",
    "# with pattern <BASE_URL>/app/<ID>?<PARAMS>"
   ]
  },
  {
   "cell_type": "code",
   "execution_count": null,
   "metadata": {},
   "outputs": [],
   "source": [
    "# We can pass the id of the slide directly to the get method\n",
    "slide = children[0]\n",
    "# or we can use File.get(api, id=\"<ID>\") if we know the id\n",
    "dzi_pyramid = DZIPyramid(slide.dzi_file)\n",
    "\n",
    "# We can also get all annotations (currently rectangles and polygons supported) marked on the slide\n",
    "print(\"Annotations:\")\n",
    "for annotation in slide.list_annotations():\n",
    "    print(f\"#{annotation.number}: {annotation.author}\")\n",
    "    print(\"Comments:\", annotation.comments)\n",
    "    print(\"Shape type:\", annotation.shape_type)\n",
    "    print()\n",
    "\n",
    "print(\"Rectangle and polygon annotations:\")\n",
    "for annotation in slide.list_annotations_of_shape([ShapeType.RECT, ShapeType.POLYGON]):\n",
    "    print(f\"#{annotation.number}: {annotation.author}\")\n",
    "    print(\"Shape type:\", annotation.shape_type)\n",
    "    print()\n",
    "\n",
    "# You can download the image from a selected annotation at a desired scale.\n",
    "annotation = slide.list_annotations()[0]\n",
    "scale = dzi_pyramid.get_scale_for(magnification=10)\n",
    "\n",
    "region = annotation.as_shape().scale(scale)\n",
    "if not isinstance(region, Rectangle):\n",
    "    region = region.rotated_bounding_box()\n",
    "image = dzi_pyramid.crop_rect(region, scale=scale)\n",
    "\n",
    "plt.subplot(1, 2, 1)\n",
    "plt.imshow(image)\n",
    "\n",
    "mask = slide.list_tiled_masks()[0]\n",
    "mask_pyramid = slide.get_tiled_mask_pyramid(mask)\n",
    "scale = mask_pyramid.get_scale_for(magnification=10)\n",
    "mask_image = mask_pyramid.crop_rect(region, scale=scale, allow_out_of_bounds=True)\n",
    "\n",
    "plt.subplot(1, 2, 2)\n",
    "plt.imshow(mask_image)\n",
    "\n",
    "plt.show()"
   ]
  },
  {
   "cell_type": "code",
   "execution_count": null,
   "metadata": {},
   "outputs": [],
   "source": [
    "# Downloading original file\n",
    "slide = children[0]\n",
    "\n",
    "# The first argument is the directory path where the file will be saved. The file name is\n",
    "# equal to the name of the original file which was uploaded\n",
    "# add verbose=False, to disable printing progress bar\n",
    "file_path = slide.download_original(\".\")\n",
    "file_path"
   ]
  },
  {
   "cell_type": "code",
   "execution_count": null,
   "metadata": {},
   "outputs": [],
   "source": [
    "slide = children[0]\n",
    "annotations = slide.list_annotations()\n",
    "    \n",
    "# change annotation label visibility\n",
    "annot = annotations[0]\n",
    "print(f\"Current label visibility: {annot.is_label_visible}\")\n",
    "annot.change_label_visibility(api, is_visible=not annot.is_label_visible)\n",
    "print(f\"New label visibility: {annot.is_label_visible}\")"
   ]
  },
  {
   "cell_type": "code",
   "execution_count": null,
   "metadata": {},
   "outputs": [],
   "source": [
    "import matplotlib.pyplot as plt\n",
    "import math\n",
    "\n",
    "slide = children[0]\n",
    "dzi_pyramid = DZIPyramid(slide.dzi_file)\n",
    "\n",
    "annotations = list(slide.list_annotations_of_shape([\n",
    "    ShapeType.RECT,\n",
    "    ShapeType.POLYGON,\n",
    "    ShapeType.CIRCLE,\n",
    "    ShapeType.ELLIPSE\n",
    "]))\n",
    "num_annotations = len(annotations)\n",
    "\n",
    "plt.figure()\n",
    "\n",
    "for i, annotation in enumerate(annotations):\n",
    "    region = annotation.as_shape()\n",
    "    # default fill value is 255 (white), but we set it to 0 (black) for better visibility\n",
    "    image = dzi_pyramid.crop_shape(region, fill_value=0)\n",
    "    plt.subplot(math.ceil(num_annotations / 3), 3, i+1)\n",
    "    plt.imshow(image)\n",
    "    plt.axis(\"off\")\n",
    "\n",
    "plt.show()"
   ]
  },
  {
   "cell_type": "code",
   "execution_count": null,
   "metadata": {},
   "outputs": [],
   "source": [
    "# You can also crop shapes from the image pyramid directly\n",
    "\n",
    "slide = children[0]\n",
    "dzi_pyramid = DZIPyramid(slide.dzi_file)\n",
    "\n",
    "plt.figure()\n",
    "\n",
    "polygon = Polygon([(2000, 2000), (2500, 1000), (3000, 2000), (3000, 3000), (2500, 4000), (2000, 3000)])\n",
    "image = dzi_pyramid.crop_shape(polygon, fill_value=0)\n",
    "plt.subplot(1, 3, 1)\n",
    "plt.imshow(image)\n",
    "plt.axis('off')\n",
    "\n",
    "circle = Circle((2500, 2500), 1000)\n",
    "image = dzi_pyramid.crop_shape(circle, fill_value=0)\n",
    "plt.subplot(1, 3, 2)\n",
    "plt.imshow(image)\n",
    "plt.axis('off')\n",
    "\n",
    "ellipse = Ellipse((2500, 2500), (2000, 1000))\n",
    "image = dzi_pyramid.crop_shape(ellipse, fill_value=0)\n",
    "plt.subplot(1, 3, 3)\n",
    "plt.imshow(image)\n",
    "plt.axis('off')\n",
    "\n",
    "plt.show()\n"
   ]
  }
 ],
 "metadata": {
  "kernelspec": {
   "display_name": "Python 3",
   "language": "python",
   "name": "python3"
  },
  "language_info": {
   "codemirror_mode": {
    "name": "ipython",
    "version": 3
   },
   "file_extension": ".py",
   "mimetype": "text/x-python",
   "name": "python",
   "nbconvert_exporter": "python",
   "pygments_lexer": "ipython3",
   "version": "3.12.3"
  },
  "orig_nbformat": 4
 },
 "nbformat": 4,
 "nbformat_minor": 2
}
