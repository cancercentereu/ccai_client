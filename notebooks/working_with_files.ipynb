{
 "cells": [
  {
   "cell_type": "code",
   "execution_count": null,
   "metadata": {},
   "outputs": [],
   "source": [
    "%load_ext autoreload\n",
    "%autoreload 2"
   ]
  },
  {
   "cell_type": "code",
   "execution_count": null,
   "metadata": {},
   "outputs": [],
   "source": [
    "from ccai_client.file_classes import File\n",
    "from ccai_client import API"
   ]
  },
  {
   "cell_type": "code",
   "execution_count": null,
   "metadata": {},
   "outputs": [],
   "source": [
    "# Organization is the codename of your organization in CancerCenter.ai platform -\n",
    "# usually it is the first part of the site base URL\n",
    "api = API(organization=\"platform\", save_token_to=\".auth.json\")"
   ]
  },
  {
   "cell_type": "code",
   "execution_count": null,
   "metadata": {},
   "outputs": [],
   "source": [
    "# GET ROOT FILE\n",
    "file = File.get_root(api)\n",
    "\n",
    "# GET ALL FILES\n",
    "file.search_files()"
   ]
  },
  {
   "cell_type": "code",
   "execution_count": null,
   "metadata": {},
   "outputs": [],
   "source": [
    "# RENAME FILE\n",
    "# you can pass:\n",
    "# - new_name\n",
    "File.get(api, \"e878b559-5ab5-4747-8de0-7558226d3534\").rename(\"dicom\")"
   ]
  },
  {
   "cell_type": "code",
   "execution_count": null,
   "metadata": {},
   "outputs": [],
   "source": [
    "# DELETE FILE (only from specified parent)\n",
    "# you can pass:\n",
    "# - parent (parent's ID)\n",
    "File.get(api, \"2169bebd-294a-4d40-8a2e-e3e5e044615f\").delete(\"1c987834-dd0c-4ed4-902f-54742be94eab\")"
   ]
  },
  {
   "cell_type": "code",
   "execution_count": null,
   "metadata": {},
   "outputs": [],
   "source": [
    "# DELETE FILE FULL (from all parents)\n",
    "File.get(api, \"2169bebd-294a-4d40-8a2e-e3e5e044615f\").delete_full()"
   ]
  },
  {
   "cell_type": "code",
   "execution_count": null,
   "metadata": {},
   "outputs": [],
   "source": [
    "# LINK FILE\n",
    "# you can pass:\n",
    "# - target (where to - ID)\n",
    "File.get(api, \"4129fc90-a380-4c9f-9b35-a4c0d6e2fdea\").link(\"1c987834-dd0c-4ed4-902f-54742be94eab\")"
   ]
  },
  {
   "cell_type": "code",
   "execution_count": null,
   "metadata": {},
   "outputs": [],
   "source": [
    "# MOVE FILE\n",
    "# you can pass:\n",
    "# - parent (where from - ID)\n",
    "# - target (where to - ID)\n",
    "File.get(api, \"4129fc90-a380-4c9f-9b35-a4c0d6e2fdea\").move(\"aff11b40-0233-4d31-9b50-a155af9a1100\",\"1c987834-dd0c-4ed4-902f-54742be94eab\")"
   ]
  },
  {
   "cell_type": "code",
   "execution_count": null,
   "metadata": {},
   "outputs": [],
   "source": [
    "# ADD SUBFOLDER\n",
    "# you can pass:\n",
    "# - name (subfolder's name)\n",
    "File.get(api, \"aff11b40-0233-4d31-9b50-a155af9a1100\").add_subfolder(\"new_folder\")"
   ]
  },
  {
   "cell_type": "code",
   "execution_count": null,
   "metadata": {},
   "outputs": [],
   "source": [
    "# Manage comments\n",
    "pathology_slide = file.search_files(types=['PathologySlideNode'])[0]\n",
    "print('Pathology slide:', pathology_slide.name)\n",
    "print('Number of comments:', len(pathology_slide.comments))\n",
    "pathology_slide.add_comment('This is a test comment', api=api)\n",
    "print('Number of comments:', len(pathology_slide.comments))\n",
    "print('Last comment:', pathology_slide.comments[-1].text)"
   ]
  },
  {
   "cell_type": "code",
   "execution_count": null,
   "metadata": {},
   "outputs": [],
   "source": [
    "roi = pathology_slide.list_annotations()[0]\n",
    "print('ROI:', roi.number)\n",
    "print('Number of comments:', len(roi.comments))\n",
    "roi.add_comment('This is a test comment', api=api)\n",
    "print('Number of comments:', len(roi.comments))\n",
    "print('Last comment:', roi.comments[-1].text)\n",
    "\n"
   ]
  },
  {
   "cell_type": "code",
   "execution_count": null,
   "metadata": {},
   "outputs": [],
   "source": []
  }
 ],
 "metadata": {
  "kernelspec": {
   "display_name": "ccai_client",
   "language": "python",
   "name": "python3"
  },
  "language_info": {
   "codemirror_mode": {
    "name": "ipython",
    "version": 3
   },
   "file_extension": ".py",
   "mimetype": "text/x-python",
   "name": "python",
   "nbconvert_exporter": "python",
   "pygments_lexer": "ipython3",
   "version": "3.13.3"
  }
 },
 "nbformat": 4,
 "nbformat_minor": 2
}
