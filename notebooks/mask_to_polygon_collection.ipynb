{
 "cells": [
  {
   "cell_type": "code",
   "execution_count": null,
   "metadata": {},
   "outputs": [],
   "source": [
    "%load_ext autoreload\n",
    "%autoreload 2"
   ]
  },
  {
   "cell_type": "code",
   "execution_count": null,
   "metadata": {},
   "outputs": [],
   "source": [
    "import numpy as np\n",
    "\n",
    "from IPython.display import display, SVG\n",
    "from matplotlib import pyplot as plt\n",
    "from PIL import Image\n",
    "\n",
    "from ccai_client import API, File\n",
    "from ccai_client.file_classes import PathologySlideNode\n",
    "\n",
    "from histpat_toolkit.masks import (\n",
    "    single_color_to_svg,\n",
    "    masks_to_svg,\n",
    "    mask_to_contours\n",
    ")"
   ]
  },
  {
   "cell_type": "code",
   "execution_count": null,
   "metadata": {},
   "outputs": [],
   "source": [
    "api = API(organization=\"platform\", save_token_to=\".auth.json\")"
   ]
  },
  {
   "cell_type": "code",
   "execution_count": null,
   "metadata": {},
   "outputs": [],
   "source": [
    "root = File.get_root(api)\n",
    "folders = root.children()\n",
    "for folder in folders:\n",
    "    print(f\"ID: {folder.id}, Name: {folder.name}\")"
   ]
  },
  {
   "cell_type": "code",
   "execution_count": null,
   "metadata": {},
   "outputs": [],
   "source": [
    "folder = File.get(api, id=folders[0].id)\n",
    "files = folder.children()\n",
    "for file in files:\n",
    "    print(f\"ID: {file.id}, Name: {file.name}\")"
   ]
  },
  {
   "cell_type": "code",
   "execution_count": null,
   "metadata": {},
   "outputs": [],
   "source": [
    "slide = File.get(api, id=files[0].id)\n",
    "assert isinstance(slide, PathologySlideNode)"
   ]
  },
  {
   "cell_type": "markdown",
   "metadata": {},
   "source": [
    "### Masks to contours\n"
   ]
  },
  {
   "cell_type": "code",
   "execution_count": null,
   "metadata": {},
   "outputs": [],
   "source": [
    "import cv2 as cv\n",
    "\n",
    "all_masks_contours = []\n",
    "\n",
    "for i, tiled_mask in enumerate(slide.list_tiled_masks()):\n",
    "    mask_pyramid = slide.get_tiled_mask_pyramid(tiled_mask)\n",
    "    try:\n",
    "        scale = mask_pyramid.get_scale_for(magnification=2)\n",
    "    except ValueError:\n",
    "        scale = 0.1 * mask_pyramid.scale\n",
    "\n",
    "    mask_image = mask_pyramid.full_image(scale)\n",
    "    Image.fromarray(mask_image).save(f\"data/{slide.name}_mask_{i}.png\")\n",
    "\n",
    "    contours_for_mask = mask_to_contours(\n",
    "        mask_image=mask_image, \n",
    "        colors=tiled_mask.color_map.colors,\n",
    "        approx_epsilon_ratio=0.005\n",
    "    )\n",
    "    all_masks_contours.append(contours_for_mask)\n",
    "\n",
    "    print(f\"MASK {i}\")\n",
    "    mask_filled = np.zeros_like(mask_image)\n",
    "    plt.figure(figsize=(10, 5))\n",
    "\n",
    "    for j, (contours_list, color) in enumerate(contours_for_mask):\n",
    "        cv.drawContours(mask_filled, contours_list, -1, color, thickness=-1)\n",
    "\n",
    "        single_color_mask = np.zeros_like(mask_image)\n",
    "        cv.drawContours(single_color_mask, contours_list, -1, color, thickness=-1)\n",
    "\n",
    "        hex_color = f\"#{color[0]:02x}{color[1]:02x}{color[2]:02x}{color[3]:02x}\"\n",
    "        plt.subplot(1, len(contours_for_mask), j + 1)\n",
    "        plt.imshow(single_color_mask)\n",
    "        plt.title(f\"Mask - {hex_color}\")\n",
    "        plt.axis(\"off\")\n",
    "\n",
    "    plt.show()\n",
    "\n",
    "    Image.fromarray(mask_filled).save(f\"data/{slide.name}_filled_mask_{i}.png\")\n",
    "\n",
    "    plt.figure(figsize=(5, 5))\n",
    "    plt.subplot(1, 2, 1)\n",
    "    plt.imshow(mask_image)\n",
    "    plt.title(\"Original mask\")\n",
    "    plt.axis(\"off\")\n",
    "    plt.subplot(1, 2, 2)\n",
    "    plt.imshow(mask_filled)\n",
    "    plt.title(\"Filled mask\")\n",
    "    plt.axis(\"off\")\n",
    "    plt.show()"
   ]
  },
  {
   "cell_type": "markdown",
   "metadata": {},
   "source": [
    "### Contours to SVG"
   ]
  },
  {
   "cell_type": "code",
   "execution_count": null,
   "metadata": {},
   "outputs": [],
   "source": [
    "for i, contours_for_mask in enumerate(all_masks_contours):\n",
    "    print(f\"{slide.name} {i} - color masks\")\n",
    "    \n",
    "    for j, (contours_for_color, color) in enumerate(contours_for_mask):\n",
    "        svg_single_color = single_color_to_svg(\n",
    "            contours_for_color, color, mask_image.shape, display_width=300\n",
    "        )\n",
    "        display(SVG(svg_single_color.tostring()))\n",
    "\n",
    "    svg_combined_mask = masks_to_svg(contours_for_mask, mask_image.shape, display_width=300).tostring()\n",
    "    with open(f\"data/{slide.name}_mask_{i}.svg\", \"w\") as f:\n",
    "        f.write(svg_combined_mask)\n",
    "    \n",
    "    print(f\"{slide.name} {i} - full mask\")\n",
    "    display(SVG(svg_combined_mask))\n"
   ]
  }
 ],
 "metadata": {
  "kernelspec": {
   "display_name": "ccai-client-Z4CkD890-py3.12",
   "language": "python",
   "name": "python3"
  },
  "language_info": {
   "codemirror_mode": {
    "name": "ipython",
    "version": 3
   },
   "file_extension": ".py",
   "mimetype": "text/x-python",
   "name": "python",
   "nbconvert_exporter": "python",
   "pygments_lexer": "ipython3",
   "version": "3.12.3"
  }
 },
 "nbformat": 4,
 "nbformat_minor": 2
}
