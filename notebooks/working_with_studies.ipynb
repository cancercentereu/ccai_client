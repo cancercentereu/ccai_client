{
 "cells": [
  {
   "cell_type": "code",
   "execution_count": null,
   "metadata": {},
   "outputs": [],
   "source": [
    "%load_ext autoreload\n",
    "%autoreload 2"
   ]
  },
  {
   "cell_type": "code",
   "execution_count": null,
   "metadata": {},
   "outputs": [],
   "source": [
    "from ccai_client.file_classes import File\n",
    "from ccai_client import API"
   ]
  },
  {
   "cell_type": "code",
   "execution_count": null,
   "metadata": {},
   "outputs": [],
   "source": [
    "# Organization is the codename of your organization in CancerCenter.ai platform -\n",
    "# usually it is the first part of the site base URL\n",
    "api = API(organization=\"platform\")"
   ]
  },
  {
   "cell_type": "code",
   "execution_count": null,
   "metadata": {},
   "outputs": [],
   "source": [
    "# GET ROOT FILE\n",
    "file = File.get_root(api)\n",
    "\n",
    "# GET ALL FILES\n",
    "files = file.search_files(deep=False)\n",
    "for file in files:\n",
    "    print(f\"{file.name} ({file.id})\")"
   ]
  },
  {
   "cell_type": "code",
   "execution_count": null,
   "metadata": {},
   "outputs": [],
   "source": [
    "# GET STUDY LIST\n",
    "study_list = File.get(api, \"27f7fdc8-375e-4364-9722-ee9e462b24b1\")\n",
    "\n",
    "# GET STUDIES\n",
    "studies = study_list.children()\n",
    "for study in studies[:5]:\n",
    "    print(f\"{study.name}:\")\n",
    "    print(f\"  ID: {study.id}\")\n",
    "    print(f\"  Status: {study.status}\")\n",
    "    print(f\"  Created at: {study.created_at}\")\n",
    "    print(f\"  Tags:\")\n",
    "    for tag in study.tags:\n",
    "        print(f\"      {tag.value}({tag.id})\")"
   ]
  },
  {
   "cell_type": "code",
   "execution_count": null,
   "metadata": {},
   "outputs": [],
   "source": [
    "# SEARCH FILES BY TAGS VALUES\n",
    "tagged_files = file.search_files(tags=[\"red-tag\", \"tag\"])\n",
    "print(\"Files with tags 'red-tag' or 'tag':\")\n",
    "for f in tagged_files:\n",
    "    print(f\"{f.name} ({f.id}) - Tags: {[tag.value for tag in f.tags]}\")\n",
    "\n",
    "tagged_files = file.search_files(tags=[\"tag\"])\n",
    "print(\"\\nFiles with tag 'tag':\")\n",
    "for f in tagged_files:\n",
    "    print(f\"{f.name} ({f.id}) - Tags: {[tag.value for tag in f.tags]}\")\n",
    "\n",
    "tagged_files = file.search_files(tags=[\"non-existent-tag\"])\n",
    "print(\"\\nFiles with tag 'non-existent-tag':\")\n",
    "for f in tagged_files:\n",
    "    print(f\"{f.name} ({f.id}) - Tags: {[tag.value for tag in f.tags]}\")\n",
    "\n"
   ]
  },
  {
   "cell_type": "code",
   "execution_count": null,
   "metadata": {},
   "outputs": [],
   "source": [
    "# ADD A NEW STUDY TO THE STUDY LIST\n",
    "# you can pass:\n",
    "# - name\n",
    "# - status (id of the status)\n",
    "# - mode (id of the mode)\n",
    "# - deadline (DateTime)\n",
    "\n",
    "new_study = study_list.add_study(name=\"new study\")\n",
    "print(f\"{new_study.name} ({new_study.id}) created with status {new_study.status}\")\n"
   ]
  },
  {
   "cell_type": "code",
   "execution_count": null,
   "metadata": {},
   "outputs": [],
   "source": []
  }
 ],
 "metadata": {
  "kernelspec": {
   "display_name": "ccai_client",
   "language": "python",
   "name": "python3"
  },
  "language_info": {
   "codemirror_mode": {
    "name": "ipython",
    "version": 3
   },
   "file_extension": ".py",
   "mimetype": "text/x-python",
   "name": "python",
   "nbconvert_exporter": "python",
   "pygments_lexer": "ipython3",
   "version": "3.13.3"
  }
 },
 "nbformat": 4,
 "nbformat_minor": 2
}
